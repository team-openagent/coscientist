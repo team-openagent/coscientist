{
 "cells": [
  {
   "cell_type": "code",
   "execution_count": 1,
   "id": "0a6321dc-0848-431d-9cd4-29f96e2f72f7",
   "metadata": {},
   "outputs": [
    {
     "ename": "SyntaxError",
     "evalue": "invalid syntax (4035447284.py, line 1)",
     "output_type": "error",
     "traceback": [
      "  \u001b[36mCell\u001b[39m\u001b[36m \u001b[39m\u001b[32mIn[1]\u001b[39m\u001b[32m, line 1\u001b[39m\n\u001b[31m    \u001b[39m\u001b[31mimport * as tslab from \"tslab\";\u001b[39m\n           ^\n\u001b[31mSyntaxError\u001b[39m\u001b[31m:\u001b[39m invalid syntax\n"
     ]
    }
   ],
   "source": [
    "import * as tslab from \"tslab\";\n",
    "import {graph} from \"./graph\";\n",
    "\n",
    "// Assume 'app' is your compiled LangGraph.js application instance\n",
    "\n",
    "async function main() {\n",
    "    const drawableGraph = await graph.getGraphAsync();\n",
    "    const image = await drawableGraph.drawMermaidPng();\n",
    "    const arrayBuffer = await image.arrayBuffer();\n",
    "    await tslab.display.png(new Uint8Array(arrayBuffer));\n",
    "}\n",
    "\n",
    "main().catch(console.error);\n",
    "\n",
    "\n",
    "\n"
   ]
  },
  {
   "cell_type": "code",
   "execution_count": null,
   "id": "9c59d0ab-0373-4032-ac7a-0d69b229ee65",
   "metadata": {},
   "outputs": [],
   "source": []
  }
 ],
 "metadata": {
  "kernelspec": {
   "display_name": "Python 3 (ipykernel)",
   "language": "python",
   "name": "python3"
  },
  "language_info": {
   "codemirror_mode": {
    "name": "ipython",
    "version": 3
   },
   "file_extension": ".py",
   "mimetype": "text/x-python",
   "name": "python",
   "nbconvert_exporter": "python",
   "pygments_lexer": "ipython3",
   "version": "3.13.7"
  }
 },
 "nbformat": 4,
 "nbformat_minor": 5
}
