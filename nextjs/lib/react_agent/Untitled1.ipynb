{
 "cells": [
  {
   "cell_type": "code",
   "execution_count": 2,
   "id": "8cc9ba7c-a7d2-452a-a4de-67557c62ace1",
   "metadata": {},
   "outputs": [
    {
     "name": "stderr",
     "output_type": "stream",
     "text": [
      "graph.ts 10:35 - Cannot find module '@/lib/mongodb' or its corresponding type declarations.\n",
      "graph.ts 11:17 - 'await' expressions are only allowed within async functions and at the top levels of modules.\n"
     ]
    }
   ],
   "source": [
    "import * as tslab from \"tslab\";\n",
    "import {graph} from \"./graph\";\n",
    "\n",
    "// Assume 'app' is your compiled LangGraph.js application instance\n",
    "\n",
    "async function main() {\n",
    "    const drawableGraph = await graph.getGraphAsync();\n",
    "    const image = await drawableGraph.drawMermaidPng();\n",
    "    const arrayBuffer = await image.arrayBuffer();\n",
    "    await tslab.display.png(new Uint8Array(arrayBuffer));\n",
    "}\n",
    "\n",
    "main().catch(console.error);\n",
    "\n",
    "\n",
    "\n"
   ]
  },
  {
   "cell_type": "code",
   "execution_count": null,
   "id": "b9447c7d-3cfd-401e-a57e-736fd8e8df38",
   "metadata": {},
   "outputs": [],
   "source": [
    "v"
   ]
  }
 ],
 "metadata": {
  "kernelspec": {
   "display_name": "TypeScript",
   "language": "typescript",
   "name": "tslab"
  },
  "language_info": {
   "codemirror_mode": {
    "mode": "typescript",
    "name": "javascript",
    "typescript": true
   },
   "file_extension": ".ts",
   "mimetype": "text/typescript",
   "name": "typescript",
   "version": "3.7.2"
  }
 },
 "nbformat": 4,
 "nbformat_minor": 5
}
